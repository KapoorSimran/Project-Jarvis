{
 "cells": [
  {
   "cell_type": "code",
   "execution_count": 1,
   "metadata": {},
   "outputs": [
    {
     "name": "stdout",
     "output_type": "stream",
     "text": [
      "Wall time: 197 ms\n"
     ]
    }
   ],
   "source": [
    "%%time\n",
    "from gtts import gTTS"
   ]
  },
  {
   "cell_type": "code",
   "execution_count": 38,
   "metadata": {
    "collapsed": true
   },
   "outputs": [],
   "source": [
    "import os"
   ]
  },
  {
   "cell_type": "code",
   "execution_count": 39,
   "metadata": {
    "collapsed": true
   },
   "outputs": [],
   "source": [
    "from  datetime import datetime\n",
    "import time"
   ]
  },
  {
   "cell_type": "code",
   "execution_count": 40,
   "metadata": {
    "collapsed": true
   },
   "outputs": [],
   "source": [
    "time_stamp=time.strftime(\"%H%M%S\")"
   ]
  },
  {
   "cell_type": "code",
   "execution_count": 41,
   "metadata": {},
   "outputs": [
    {
     "data": {
      "text/plain": [
       "'141747'"
      ]
     },
     "execution_count": 41,
     "metadata": {},
     "output_type": "execute_result"
    }
   ],
   "source": [
    "time_stamp"
   ]
  },
  {
   "cell_type": "code",
   "execution_count": 140,
   "metadata": {
    "collapsed": true
   },
   "outputs": [],
   "source": [
    "tts = gTTS(text='Hello World I am using Python 3, Thank you very much!!!', lang='en')"
   ]
  },
  {
   "cell_type": "code",
   "execution_count": 42,
   "metadata": {
    "collapsed": true
   },
   "outputs": [],
   "source": [
    "file1 = str(str(time_stamp) + \".mp3\")"
   ]
  },
  {
   "cell_type": "code",
   "execution_count": 142,
   "metadata": {},
   "outputs": [
    {
     "data": {
      "text/plain": [
       "'123343.mp3'"
      ]
     },
     "execution_count": 142,
     "metadata": {},
     "output_type": "execute_result"
    }
   ],
   "source": [
    "file1"
   ]
  },
  {
   "cell_type": "code",
   "execution_count": 143,
   "metadata": {
    "collapsed": true
   },
   "outputs": [],
   "source": [
    "tts.save(file1)"
   ]
  },
  {
   "cell_type": "code",
   "execution_count": 144,
   "metadata": {},
   "outputs": [
    {
     "data": {
      "text/plain": [
       "0"
      ]
     },
     "execution_count": 144,
     "metadata": {},
     "output_type": "execute_result"
    }
   ],
   "source": [
    "os.system('122903.mp3')"
   ]
  },
  {
   "cell_type": "code",
   "execution_count": 148,
   "metadata": {},
   "outputs": [
    {
     "data": {
      "text/plain": [
       "1"
      ]
     },
     "execution_count": 148,
     "metadata": {},
     "output_type": "execute_result"
    }
   ],
   "source": [
    "os.system(file1)"
   ]
  },
  {
   "cell_type": "code",
   "execution_count": 147,
   "metadata": {
    "collapsed": true
   },
   "outputs": [],
   "source": [
    "os.remove(file1)"
   ]
  },
  {
   "cell_type": "code",
   "execution_count": 151,
   "metadata": {},
   "outputs": [
    {
     "name": "stdout",
     "output_type": "stream",
     "text": [
      "You said- verus New York interview\n"
     ]
    }
   ],
   "source": [
    "print('You said- '+ data)"
   ]
  },
  {
   "cell_type": "code",
   "execution_count": 119,
   "metadata": {
    "scrolled": false
   },
   "outputs": [
    {
     "ename": "ImportError",
     "evalue": "No module named 'vlc'",
     "output_type": "error",
     "traceback": [
      "\u001b[1;31m---------------------------------------------------------------------------\u001b[0m",
      "\u001b[1;31mImportError\u001b[0m                               Traceback (most recent call last)",
      "\u001b[1;32m<ipython-input-119-7c36fff9a8c5>\u001b[0m in \u001b[0;36m<module>\u001b[1;34m()\u001b[0m\n\u001b[1;32m----> 1\u001b[1;33m \u001b[1;32mimport\u001b[0m \u001b[0mvlc\u001b[0m\u001b[1;33m\u001b[0m\u001b[0m\n\u001b[0m",
      "\u001b[1;31mImportError\u001b[0m: No module named 'vlc'"
     ]
    }
   ],
   "source": [
    "import vlc"
   ]
  },
  {
   "cell_type": "code",
   "execution_count": null,
   "metadata": {
    "collapsed": true
   },
   "outputs": [],
   "source": []
  },
  {
   "cell_type": "code",
   "execution_count": 13,
   "metadata": {},
   "outputs": [
    {
     "name": "stdout",
     "output_type": "stream",
     "text": [
      "Wall time: 0 ns\n"
     ]
    }
   ],
   "source": [
    "%%time\n",
    "import speech_recognition as sr\n",
    "from time import ctime\n",
    "import time\n",
    "import os\n",
    "from gtts import gTTS"
   ]
  },
  {
   "cell_type": "code",
   "execution_count": 14,
   "metadata": {
    "collapsed": true
   },
   "outputs": [],
   "source": [
    "def speak(audioString):\n",
    "    print(audioString)\n",
    "    tts = gTTS(text=audioString, lang='en')\n",
    "    tts.save(file1)\n",
    "    os.system(file1)\n",
    "    os.remove(file1)\n"
   ]
  },
  {
   "cell_type": "code",
   "execution_count": 147,
   "metadata": {},
   "outputs": [],
   "source": [
    "def recordAudio():\n",
    "    # Record Audio\n",
    "    r = sr.Recognizer()\n",
    "    with sr.Microphone() as source:\n",
    "        print(\"Say something!\")\n",
    "        #audio = r.listen(source,timeout=2)\n",
    "        audio = r.listen(source,timeout=2,phrase_time_limit=5)\n",
    "        \n",
    "    # Speech recognition using Google Speech Recognition\n",
    "    data = \"\"\n",
    "    try:\n",
    "        # Uses the default API key\n",
    "        # To use another API key: `r.recognize_google(audio, key=\"GOOGLE_SPEECH_RECOGNITION_API_KEY\")`\n",
    "        #print(\"You said: \" + r.recognize_google(audio))\n",
    "        #data = r.recognize_google(audio)\n",
    "        #print(\"You said: \" + r.recognize_houndify(audio,client_id='eylXg0WUhOk7X9q35g2lDg==',client_key='5wB58V05vEV4vL7zexm5Y9bGTzF3Bhd7Y2BzqCln_SqOLu3Z5xDpQj6zAlVukg54EY4w5dapT4j69DCsdOkhKA=='))\n",
    "        #data = r.recognize_houndify(audio,client_id='eylXg0WUhOk7X9q35g2lDg==',client_key='5wB58V05vEV4vL7zexm5Y9bGTzF3Bhd7Y2BzqCln_SqOLu3Z5xDpQj6zAlVukg54EY4w5dapT4j69DCsdOkhKA==')\n",
    "        print(\"You said: \" + r.recognize_wit(audio,key='ION5SH3SH4QPDEVUUQVTNBZWNEK657MW'))\n",
    "        data = r.recognize_wit(audio,key='ION5SH3SH4QPDEVUUQVTNBZWNEK657MW')\n",
    "        \n",
    "        \n",
    "    except sr.UnknownValueError:\n",
    "        print(\"Google Speech Recognition could not understand audio\")\n",
    "        speak(\"If you just said something, I didn't hear what it was\")\n",
    "    except sr.RequestError as e:\n",
    "        print(\"Could not request results from Google Speech Recognition service; {0}\".format(e))\n",
    "        speak(\"Could not request results from Google Speech Recognition service\")\n",
    " \n",
    "    return data   "
   ]
  },
  {
   "cell_type": "markdown",
   "metadata": {},
   "source": [
    "#### ref:https://pypi.python.org/pypi/SpeechRecognition/"
   ]
  },
  {
   "cell_type": "code",
   "execution_count": 122,
   "metadata": {
    "collapsed": true
   },
   "outputs": [],
   "source": [
    "import pocketsphinx"
   ]
  },
  {
   "cell_type": "code",
   "execution_count": 143,
   "metadata": {
    "collapsed": true
   },
   "outputs": [],
   "source": [
    "r = sr.Recognizer()"
   ]
  },
  {
   "cell_type": "code",
   "execution_count": 144,
   "metadata": {},
   "outputs": [
    {
     "name": "stdout",
     "output_type": "stream",
     "text": [
      "Say something!\n"
     ]
    }
   ],
   "source": [
    "with sr.Microphone() as source:\n",
    "        print(\"Say something!\")\n",
    "        #audio = r.listen(source,timeout=2)\n",
    "        audio = r.listen(source,timeout=2,phrase_time_limit=5)"
   ]
  },
  {
   "cell_type": "code",
   "execution_count": 155,
   "metadata": {},
   "outputs": [
    {
     "data": {
      "text/plain": [
       "''"
      ]
     },
     "execution_count": 155,
     "metadata": {},
     "output_type": "execute_result"
    }
   ],
   "source": [
    "data"
   ]
  },
  {
   "cell_type": "code",
   "execution_count": 146,
   "metadata": {},
   "outputs": [
    {
     "data": {
      "text/plain": [
       "'hi my name is slim facing the engine and a graduate student'"
      ]
     },
     "execution_count": 146,
     "metadata": {},
     "output_type": "execute_result"
    }
   ],
   "source": [
    "r.recognize_wit(audio,key='ION5SH3SH4QPDEVUUQVTNBZWNEK657MW')"
   ]
  },
  {
   "cell_type": "code",
   "execution_count": 157,
   "metadata": {},
   "outputs": [
    {
     "name": "stdout",
     "output_type": "stream",
     "text": [
      "If you just said something, I didn't hear what it was\n"
     ]
    }
   ],
   "source": [
    "if data==\"\":\n",
    "    speak(\"If you just said something, I didn't hear what it was\")"
   ]
  },
  {
   "cell_type": "code",
   "execution_count": 137,
   "metadata": {},
   "outputs": [],
   "source": [
    "#r.recognize_houndify(audio,client_id='eylXg0WUhOk7X9q35g2lDg==',client_key='5wB58V05vEV4vL7zexm5Y9bGTzF3Bhd7Y2BzqCln_SqOLu3Z5xDpQj6zAlVukg54EY4w5dapT4j69DCsdOkhKA==')"
   ]
  },
  {
   "cell_type": "code",
   "execution_count": 151,
   "metadata": {},
   "outputs": [],
   "source": [
    "def jarvis(data):\n",
    "    try:\n",
    "        \n",
    "        if \"how are you\" in data:\n",
    "            speak(\"I am fine Mantej, Have a nice day!\")\n",
    "\n",
    "        if \"what time is it\" in data:\n",
    "            speak(ctime())\n",
    "\n",
    "        if \"location \" in data:\n",
    "            data = data.split(\" \")\n",
    "            location = data[2] + data[3]\n",
    "            speak(\"Hold on Mantej, I will show you where \" + location + \" is.\")\n",
    "            webbrowser.open(\"https://www.google.com/maps/place/\" + location)\n",
    "        if \"Google\" in data:\n",
    "            data = data.split(\" \")\n",
    "            \n",
    "            #print(type(data))\n",
    "            find = data[0:]\n",
    "            str1 = ' '.join(find)\n",
    "            keyword='Google'\n",
    "            after = str1[str1.index(keyword) + len(keyword):]\n",
    "            #find=[]\n",
    "            #find.append(data)\n",
    "            #findall = find[0:]\n",
    "\n",
    "            speak(\"Hold on Mantej, I will Google the request for you !\")\n",
    "            webbrowser.open(\"https://www.google.com/search?num=30&site=&source=hp&q=\" + after)\n",
    "        if \"google\" in data:\n",
    "            data = data.split(\" \")\n",
    "            \n",
    "            #print(type(data))\n",
    "            find = data[0:]\n",
    "            str1 = ' '.join(find)\n",
    "            keyword='google'\n",
    "            after = str1[str1.index(keyword) + len(keyword):]\n",
    "            #find=[]\n",
    "            #find.append(data)\n",
    "            #findall = find[0:]\n",
    "\n",
    "            speak(\"Hold on Mantej, I will Google the request for you !\")\n",
    "            webbrowser.open(\"https://www.google.com/search?num=30&site=&source=hp&q=\" + after)\n",
    "    except sr.UnknownValueError:\n",
    "        print(\"Google Speech Recognition could not understand audio\")\n",
    "        speak(\"If you just said something, I didn't hear what it was\")\n",
    "\n",
    "    "
   ]
  },
  {
   "cell_type": "code",
   "execution_count": 86,
   "metadata": {},
   "outputs": [
    {
     "data": {
      "text/plain": [
       "'what is the temperature in Google about New York'"
      ]
     },
     "execution_count": 86,
     "metadata": {},
     "output_type": "execute_result"
    }
   ],
   "source": [
    "data"
   ]
  },
  {
   "cell_type": "code",
   "execution_count": 182,
   "metadata": {},
   "outputs": [
    {
     "ename": "AttributeError",
     "evalue": "'list' object has no attribute 'split'",
     "output_type": "error",
     "traceback": [
      "\u001b[1;31m---------------------------------------------------------------------------\u001b[0m",
      "\u001b[1;31mAttributeError\u001b[0m                            Traceback (most recent call last)",
      "\u001b[1;32m<ipython-input-182-c2993a0f2e35>\u001b[0m in \u001b[0;36m<module>\u001b[1;34m()\u001b[0m\n\u001b[1;32m----> 1\u001b[1;33m \u001b[0mdata\u001b[0m \u001b[1;33m=\u001b[0m \u001b[0mdata\u001b[0m\u001b[1;33m.\u001b[0m\u001b[0msplit\u001b[0m\u001b[1;33m(\u001b[0m\u001b[1;34m\" \"\u001b[0m\u001b[1;33m)\u001b[0m\u001b[1;33m\u001b[0m\u001b[0m\n\u001b[0m\u001b[0;32m      2\u001b[0m \u001b[0mdata\u001b[0m\u001b[1;33m\u001b[0m\u001b[0m\n",
      "\u001b[1;31mAttributeError\u001b[0m: 'list' object has no attribute 'split'"
     ]
    }
   ],
   "source": [
    "data = data.split(\" \")\n",
    "data"
   ]
  },
  {
   "cell_type": "code",
   "execution_count": 163,
   "metadata": {
    "collapsed": true
   },
   "outputs": [],
   "source": [
    " location='New York'"
   ]
  },
  {
   "cell_type": "code",
   "execution_count": 9,
   "metadata": {
    "collapsed": true
   },
   "outputs": [],
   "source": [
    "import webbrowser"
   ]
  },
  {
   "cell_type": "code",
   "execution_count": 176,
   "metadata": {},
   "outputs": [
    {
     "data": {
      "text/plain": [
       "True"
      ]
     },
     "execution_count": 176,
     "metadata": {},
     "output_type": "execute_result"
    }
   ],
   "source": [
    "webbrowser.open(\"https://www.google.com/maps/place/\" + location)"
   ]
  },
  {
   "cell_type": "code",
   "execution_count": 154,
   "metadata": {},
   "outputs": [
    {
     "name": "stdout",
     "output_type": "stream",
     "text": [
      "Hi Mantej, what can I do for you?\n"
     ]
    }
   ],
   "source": [
    "time.sleep(2)\n",
    "speak(\"Hi Mantej, what can I do for you?\")"
   ]
  },
  {
   "cell_type": "code",
   "execution_count": 160,
   "metadata": {
    "collapsed": true
   },
   "outputs": [],
   "source": [
    "#data = recordAudio()"
   ]
  },
  {
   "cell_type": "markdown",
   "metadata": {},
   "source": [
    "### Run the code"
   ]
  },
  {
   "cell_type": "code",
   "execution_count": 152,
   "metadata": {},
   "outputs": [
    {
     "name": "stdout",
     "output_type": "stream",
     "text": [
      "Request 0\n",
      "Say something!\n",
      "You said: google the temperature of new york for\n",
      "Hold on Mantej, I will Google the request for you !\n",
      "Request 1\n",
      "Say something!\n",
      "You said: did he\n",
      "Request 2\n",
      "Say something!\n",
      "You said: \n",
      "Request 3\n",
      "Say something!\n"
     ]
    },
    {
     "ename": "KeyboardInterrupt",
     "evalue": "",
     "output_type": "error",
     "traceback": [
      "\u001b[1;31m---------------------------------------------------------------------------\u001b[0m",
      "\u001b[1;31mKeyboardInterrupt\u001b[0m                         Traceback (most recent call last)",
      "\u001b[1;32m<ipython-input-152-fd4622d06ce2>\u001b[0m in \u001b[0;36m<module>\u001b[1;34m()\u001b[0m\n\u001b[0;32m      5\u001b[0m \u001b[1;32mwhile\u001b[0m \u001b[1;36m1\u001b[0m\u001b[1;33m:\u001b[0m\u001b[1;33m\u001b[0m\u001b[0m\n\u001b[0;32m      6\u001b[0m     \u001b[0mprint\u001b[0m\u001b[1;33m(\u001b[0m\u001b[1;34m'Request '\u001b[0m\u001b[1;33m+\u001b[0m \u001b[0mstr\u001b[0m\u001b[1;33m(\u001b[0m\u001b[0mcount\u001b[0m\u001b[1;33m)\u001b[0m\u001b[1;33m)\u001b[0m\u001b[1;33m\u001b[0m\u001b[0m\n\u001b[1;32m----> 7\u001b[1;33m     \u001b[0mdata\u001b[0m \u001b[1;33m=\u001b[0m \u001b[0mrecordAudio\u001b[0m\u001b[1;33m(\u001b[0m\u001b[1;33m)\u001b[0m\u001b[1;33m\u001b[0m\u001b[0m\n\u001b[0m\u001b[0;32m      8\u001b[0m     \u001b[0mjarvis\u001b[0m\u001b[1;33m(\u001b[0m\u001b[0mdata\u001b[0m\u001b[1;33m)\u001b[0m\u001b[1;33m\u001b[0m\u001b[0m\n\u001b[0;32m      9\u001b[0m     \u001b[0mcount\u001b[0m \u001b[1;33m=\u001b[0m \u001b[0mcount\u001b[0m \u001b[1;33m+\u001b[0m \u001b[1;36m1\u001b[0m\u001b[1;33m\u001b[0m\u001b[0m\n",
      "\u001b[1;32m<ipython-input-147-34042b594799>\u001b[0m in \u001b[0;36mrecordAudio\u001b[1;34m()\u001b[0m\n\u001b[0;32m      5\u001b[0m         \u001b[0mprint\u001b[0m\u001b[1;33m(\u001b[0m\u001b[1;34m\"Say something!\"\u001b[0m\u001b[1;33m)\u001b[0m\u001b[1;33m\u001b[0m\u001b[0m\n\u001b[0;32m      6\u001b[0m         \u001b[1;31m#audio = r.listen(source,timeout=2)\u001b[0m\u001b[1;33m\u001b[0m\u001b[1;33m\u001b[0m\u001b[0m\n\u001b[1;32m----> 7\u001b[1;33m         \u001b[0maudio\u001b[0m \u001b[1;33m=\u001b[0m \u001b[0mr\u001b[0m\u001b[1;33m.\u001b[0m\u001b[0mlisten\u001b[0m\u001b[1;33m(\u001b[0m\u001b[0msource\u001b[0m\u001b[1;33m,\u001b[0m\u001b[0mtimeout\u001b[0m\u001b[1;33m=\u001b[0m\u001b[1;36m2\u001b[0m\u001b[1;33m,\u001b[0m\u001b[0mphrase_time_limit\u001b[0m\u001b[1;33m=\u001b[0m\u001b[1;36m5\u001b[0m\u001b[1;33m)\u001b[0m\u001b[1;33m\u001b[0m\u001b[0m\n\u001b[0m\u001b[0;32m      8\u001b[0m \u001b[1;33m\u001b[0m\u001b[0m\n\u001b[0;32m      9\u001b[0m     \u001b[1;31m# Speech recognition using Google Speech Recognition\u001b[0m\u001b[1;33m\u001b[0m\u001b[1;33m\u001b[0m\u001b[0m\n",
      "\u001b[1;32mc:\\python35\\lib\\site-packages\\speech_recognition\\__init__.py\u001b[0m in \u001b[0;36mlisten\u001b[1;34m(self, source, timeout, phrase_time_limit)\u001b[0m\n\u001b[0;32m    575\u001b[0m                     \u001b[1;32mbreak\u001b[0m\u001b[1;33m\u001b[0m\u001b[0m\n\u001b[0;32m    576\u001b[0m \u001b[1;33m\u001b[0m\u001b[0m\n\u001b[1;32m--> 577\u001b[1;33m                 \u001b[0mbuffer\u001b[0m \u001b[1;33m=\u001b[0m \u001b[0msource\u001b[0m\u001b[1;33m.\u001b[0m\u001b[0mstream\u001b[0m\u001b[1;33m.\u001b[0m\u001b[0mread\u001b[0m\u001b[1;33m(\u001b[0m\u001b[0msource\u001b[0m\u001b[1;33m.\u001b[0m\u001b[0mCHUNK\u001b[0m\u001b[1;33m)\u001b[0m\u001b[1;33m\u001b[0m\u001b[0m\n\u001b[0m\u001b[0;32m    578\u001b[0m                 \u001b[1;32mif\u001b[0m \u001b[0mlen\u001b[0m\u001b[1;33m(\u001b[0m\u001b[0mbuffer\u001b[0m\u001b[1;33m)\u001b[0m \u001b[1;33m==\u001b[0m \u001b[1;36m0\u001b[0m\u001b[1;33m:\u001b[0m \u001b[1;32mbreak\u001b[0m  \u001b[1;31m# reached end of the stream\u001b[0m\u001b[1;33m\u001b[0m\u001b[0m\n\u001b[0;32m    579\u001b[0m                 \u001b[0mframes\u001b[0m\u001b[1;33m.\u001b[0m\u001b[0mappend\u001b[0m\u001b[1;33m(\u001b[0m\u001b[0mbuffer\u001b[0m\u001b[1;33m)\u001b[0m\u001b[1;33m\u001b[0m\u001b[0m\n",
      "\u001b[1;32mc:\\python35\\lib\\site-packages\\speech_recognition\\__init__.py\u001b[0m in \u001b[0;36mread\u001b[1;34m(self, size)\u001b[0m\n\u001b[0;32m    158\u001b[0m \u001b[1;33m\u001b[0m\u001b[0m\n\u001b[0;32m    159\u001b[0m         \u001b[1;32mdef\u001b[0m \u001b[0mread\u001b[0m\u001b[1;33m(\u001b[0m\u001b[0mself\u001b[0m\u001b[1;33m,\u001b[0m \u001b[0msize\u001b[0m\u001b[1;33m)\u001b[0m\u001b[1;33m:\u001b[0m\u001b[1;33m\u001b[0m\u001b[0m\n\u001b[1;32m--> 160\u001b[1;33m             \u001b[1;32mreturn\u001b[0m \u001b[0mself\u001b[0m\u001b[1;33m.\u001b[0m\u001b[0mpyaudio_stream\u001b[0m\u001b[1;33m.\u001b[0m\u001b[0mread\u001b[0m\u001b[1;33m(\u001b[0m\u001b[0msize\u001b[0m\u001b[1;33m,\u001b[0m \u001b[0mexception_on_overflow\u001b[0m\u001b[1;33m=\u001b[0m\u001b[1;32mFalse\u001b[0m\u001b[1;33m)\u001b[0m\u001b[1;33m\u001b[0m\u001b[0m\n\u001b[0m\u001b[0;32m    161\u001b[0m \u001b[1;33m\u001b[0m\u001b[0m\n\u001b[0;32m    162\u001b[0m         \u001b[1;32mdef\u001b[0m \u001b[0mclose\u001b[0m\u001b[1;33m(\u001b[0m\u001b[0mself\u001b[0m\u001b[1;33m)\u001b[0m\u001b[1;33m:\u001b[0m\u001b[1;33m\u001b[0m\u001b[0m\n",
      "\u001b[1;32mc:\\python35\\lib\\site-packages\\pyaudio.py\u001b[0m in \u001b[0;36mread\u001b[1;34m(self, num_frames, exception_on_overflow)\u001b[0m\n\u001b[0;32m    606\u001b[0m                           paCanNotReadFromAnOutputOnlyStream)\n\u001b[0;32m    607\u001b[0m \u001b[1;33m\u001b[0m\u001b[0m\n\u001b[1;32m--> 608\u001b[1;33m         \u001b[1;32mreturn\u001b[0m \u001b[0mpa\u001b[0m\u001b[1;33m.\u001b[0m\u001b[0mread_stream\u001b[0m\u001b[1;33m(\u001b[0m\u001b[0mself\u001b[0m\u001b[1;33m.\u001b[0m\u001b[0m_stream\u001b[0m\u001b[1;33m,\u001b[0m \u001b[0mnum_frames\u001b[0m\u001b[1;33m,\u001b[0m \u001b[0mexception_on_overflow\u001b[0m\u001b[1;33m)\u001b[0m\u001b[1;33m\u001b[0m\u001b[0m\n\u001b[0m\u001b[0;32m    609\u001b[0m \u001b[1;33m\u001b[0m\u001b[0m\n\u001b[0;32m    610\u001b[0m     \u001b[1;32mdef\u001b[0m \u001b[0mget_read_available\u001b[0m\u001b[1;33m(\u001b[0m\u001b[0mself\u001b[0m\u001b[1;33m)\u001b[0m\u001b[1;33m:\u001b[0m\u001b[1;33m\u001b[0m\u001b[0m\n",
      "\u001b[1;31mKeyboardInterrupt\u001b[0m: "
     ]
    }
   ],
   "source": [
    "# initialization\n",
    "time.sleep(2)\n",
    "#speak(\"Hi Mantej, what can I do for you?\")\n",
    "count = 0\n",
    "while 1:\n",
    "    print('Request '+ str(count))\n",
    "    data = recordAudio()\n",
    "    jarvis(data)\n",
    "    count = count + 1\n",
    "    \n",
    "    "
   ]
  },
  {
   "cell_type": "code",
   "execution_count": 193,
   "metadata": {},
   "outputs": [
    {
     "name": "stderr",
     "output_type": "stream",
     "text": [
      ") was unexpected at this time.\n"
     ]
    }
   ],
   "source": [
    "!()"
   ]
  },
  {
   "cell_type": "code",
   "execution_count": 18,
   "metadata": {
    "collapsed": true
   },
   "outputs": [],
   "source": [
    "r = sr.Recognizer()"
   ]
  },
  {
   "cell_type": "code",
   "execution_count": 22,
   "metadata": {
    "collapsed": true
   },
   "outputs": [],
   "source": [
    "r.pause_threshold = 0.6 "
   ]
  },
  {
   "cell_type": "code",
   "execution_count": 29,
   "metadata": {
    "collapsed": true
   },
   "outputs": [],
   "source": [
    "data = \"\""
   ]
  },
  {
   "cell_type": "code",
   "execution_count": 40,
   "metadata": {},
   "outputs": [
    {
     "data": {
      "text/plain": [
       "'Hi how are you what time is it in the Village New York'"
      ]
     },
     "execution_count": 40,
     "metadata": {},
     "output_type": "execute_result"
    }
   ],
   "source": [
    "data"
   ]
  },
  {
   "cell_type": "code",
   "execution_count": 41,
   "metadata": {},
   "outputs": [
    {
     "name": "stdout",
     "output_type": "stream",
     "text": [
      "I am fine\n"
     ]
    }
   ],
   "source": [
    "if \"how are you\" in data:\n",
    "    speak(\"I am fine\")"
   ]
  },
  {
   "cell_type": "code",
   "execution_count": 42,
   "metadata": {},
   "outputs": [
    {
     "name": "stdout",
     "output_type": "stream",
     "text": [
      "Thu Apr 20 11:36:05 2017\n"
     ]
    }
   ],
   "source": [
    "if \"what time is it\" in data:\n",
    "    speak(ctime())"
   ]
  },
  {
   "cell_type": "code",
   "execution_count": 43,
   "metadata": {
    "collapsed": true
   },
   "outputs": [],
   "source": [
    "if \"where is\" in data:\n",
    "    data = data.split(\" \")\n",
    "    location = data[2]\n",
    "    speak(\"Hold on Frank, I will show you where \" + location + \" is.\")\n",
    "    os.system(\"chromium-browser https://www.google.nl/maps/place/\" + location + \"/&amp;\")"
   ]
  },
  {
   "cell_type": "code",
   "execution_count": 45,
   "metadata": {
    "collapsed": true
   },
   "outputs": [],
   "source": [
    "from playsound import playsound"
   ]
  },
  {
   "cell_type": "code",
   "execution_count": 97,
   "metadata": {
    "collapsed": true
   },
   "outputs": [],
   "source": [
    "#not working\n",
    "#playsound(file1,True)"
   ]
  },
  {
   "cell_type": "code",
   "execution_count": 51,
   "metadata": {
    "collapsed": true
   },
   "outputs": [],
   "source": [
    "import sounddevice as sd"
   ]
  },
  {
   "cell_type": "code",
   "execution_count": 54,
   "metadata": {
    "collapsed": true
   },
   "outputs": [],
   "source": [
    "#sd.play('hello.mp3')"
   ]
  },
  {
   "cell_type": "code",
   "execution_count": 55,
   "metadata": {
    "collapsed": true
   },
   "outputs": [],
   "source": [
    "import IPython.display as ipd"
   ]
  },
  {
   "cell_type": "code",
   "execution_count": 95,
   "metadata": {},
   "outputs": [
    {
     "data": {
      "text/html": [
       "\n",
       "                <audio controls=\"controls\" >\n",
       "                    <source src=\"data:audio/mpeg;base64,//NExAARENooAEsScAgAcVAQIzQIEJtsUDZuIAmjcAA9AgWRHTHh2uRH99aUH6Q6KhYGAuccjkgTe2gXk5Gk6ZSqYjgHNBYnVrIAP//////lFXJgbmYghD2uWILMH4Qw//NExA4RQUZ0ABmQcPBx0nhBewhYdh0FFt7q3PiIU4GhJwNBRyxdjHdqIM99ER3lgaCJLnuW8/+X6bPu/5z8Tl76j5PJ+LYoD5MeQLreShk4BFNoebQzXXQk9svQxqIn//NExBwWwUaMAEpScIJT2dTlxUQFC7HPhgaBdInfMuku2y3Cbb4/VGUoMFoJCxE/aIxVZRmun+845Lm2Sxi2/BR/CwjOPFmisoTplPw3rk0QhEnwdO2sJi/lUZJ5vYMo//NExBQWkUKsAMPecEPCvgJ+FVsJWLmxN9sw240H0GNm6IJY2xo72hPBcGVnmrDePIkmvq7zX1vGb/0zTLHHoCpA2ck/9KQi+r3////frpg+cJpVX1LDDhcax1SwK4pX//NExAwUwcK0AIYalH+6C+QFY9vu7tCjLA2/7+2wXtaz1JXex7jhYiYO8TEuorWmPcur0ioo+owMWauTCaUdTmBo//0//ss3Ubl+K6su///06ffpX5eD1A0pp1ZDgGk3//NExAwUkdawAIYEmLFjLSi4FY32ssuvoESgb+61Ek+bPctw+gLeWzv+1HMkX//4Ulr+Qf4Qf4QU/IGK3kfzt9fw5NFOOU2OIhqKAWQCuhbV//pV9MoAnI4mtRqQMKeL//NExAwVOlawAJzEuMxcY1AjEC2So7SmJzGkedaQrgYlJ1KcMxCQOmN9lmSn6ZNN8vP6v1byP5zifQvzp8wV2QhBN12FP2N86GuyEVnVVHGNYW3/ndT1mwD5jxdAg5IG//NExAoTONaoAJ5WcCw07qzHy8hwDsRw3qJoZq9v85K33GgjA9wcDAdRO+UyS2uXm507Fj1IaxNgI9EMABCyP6xwLAqwNg181lhLEgPHqTf+7rS0KngeZ15RDzEBCydY//NExBAWEcqcAM4ElQPDxS9MMHD7N691mVI2CwaKzchlt1YAMaTyn6kSgGdy7hnzv/w4wp22f3V//qyVQrEIqGW1HLf/UhEnYUKIwtOp26nb/41rBZX9fyuKFkW97OQQ//NExAoUMcqgAM4OlACI4bXlEOTGgvFYSGbWs0f4Fy7MWUp4GimOrsisf+HM8//DDp757+r8xnfv9+sbr5if9X+cZVxwOuMnaGLPhxRymdSPwziB/+/k7BR7DLOsInA///NExAwUchaoAMTKmE41slCsABsH9Lik0wuFL6SZ8mgCAASELlKDkWE+E2bblz6vUv0+n1+NPzgQjdfl+Tyh9+LBjeObZhd+EGFKA9WdzX///lH4bgGA9agkQDnOo1L4//NExA0RYj6wAKTKuAYiBGFJnMA1hknWYBsxEHSlwOKFTVzP6/q+r6f29RLqJH9X+L+jd2B/Rvt6PyBId3EX8Y6V///+lfhkwZttQNYHeYM5GARUASEG6FxQw8oZmYh9//NExBoRmhq0AJUKmBBpuNcNrW+tX3+/yff6dRoAMkyH9V+L30V9BIn1f2fQxKXij0mt///9ZpLyar7CvAt8/UahxQDIyJGiZcAiGBbAPOssBtZ9twtfImzFE1G4/mP///NExCYROh6wAJ0OmO/280z1INsVDDen09SJdePft/6PpOU/jz9////pHSvXdbqL7GxS/mNMxs5mkvmZcJsD0kFzQh4N6h92KZWGuFnBOaZotIyT+3//0/XzCbXo7v/3//NExDQRShKsAMQKmF0MAxPM7f//+g8Ulkf///p1qv73lpLU1xCQ5yCRpCnKZjQLEmC4MEBEyGHSGDHmoX8AvoUqXTo5ozwgsX2epJ/v//+v79QEQdpd/R/himNN9l////NExEER6hKcANTEmP5mhSgHuLXWVeWMLBh4aAmpmS+JvI2U3uQAxlDorcZIIToGWwh7YohMEHPCexbS1IqeWVkvX+j9P///0M9mAyG/5yAQpws7/iKXB0NEFhuoOqfO//NExEwSeYqEAN0ElP1FGjGr44MUcKHIuOh5nM2c4cpiqjgsUCzADk1c4URfmfNx/AhECtTrWP/oB3//8wsVDf1wKhv/UoVUsoLP////t1IqbvNy92wQDDFMiBwESrfm//NExFURUJJ4AN7WTAUlDD4nUOHU+qV1WGmUBKsUCP1PpMdWdW6+rYv9ImyyzH//oxz/wiV2f9USgqz////vLWez0UeJFEz+4SYarGS3LsEgcOSnEON6+Uw1byEEGNAQ//NExGIQeJJwAObeTAWw+cexyASBoMesSiDGBcOpvUgv1oNUgl1INrM0//X1T//UOOme/t6f/XoQd3///////+vW/cHWosKWaclAcHrKNRMOs6HRYllzD4gCg6XLtqgM//NExHMWKv5wAOQEub6E0UqFcUq1zp1T7sUkVfB1a+9zC9KTv6u7//+KU/f1qTZ/zN2+sqi0XJ2+3/mffwcMr2L+Tvp9W6EElzf///dKZO16HCdFoKLKnb0z+ehoKsjh//NExG0YKfJ0AN5OmKL/GIBAe4EwKAL9uggWY3UKCd+1OmorFMlid+JRKDkbxoJLLGTpgoXbvYYzcU/9bfOt/1HQW5zCvNt0v//6y///X+/39/V/EYi1R8Z6it+pdtzw//NExF8c4xJ8AOaOueSfG9tTE6///////59tX7HWMnlw9e87UeMypZakoi7OhBAGnIY4AP2/kGnk2LroS1zzSCA4nWURt9GcBd9Vsvq16QFCY73uOybv/UZrQ397ZW1D//NExD4Yke6MAN5OmL/NzPPb0b/p9vV+oXSxSJC8dLtUwWbIIhZ8waZLOf//9P3RhpXe8twYDTqUOtSwyITo3MLZvevsyAEMCgAc4c0tkcDo400COHaBVWGqxbjxmRgN//NExC4YGw6YAN0Kuec3TUxHlrdEQCKS6I+RsN0X9P////X4gk8YCtuIG6B8+gUz5BP4p2P////////T69RkisfxyiIFaxmMZzCE8D7lRxiXtYMyaB4xMiArcEmCEQjO//NExCAXyeKcANaKmDDeiJSX8jNbHo4GhzH/mXk5/8Q9fjnde6M///q36fb///lJ0D73QBidA22wuugdF3hJ0SOW6oP+3d/5L4cljNXv95PGYMq+BaaVDAp9VL9o+U4g//NExBMWgeagAM6OmA4HoKLb1eLVtQvw3Qp6iW2k/XFlLd1/cr85/6gFx+d/vX6nM8NcJ9B8zp9G/8z1MuooAv6K+aOluaYfrLtKkYlP/9b///+Q6ygA8kJwTuTABqkk//NExAwUieasAKUKmNMuEPC1AGuAi3lZagaAyRcoFsjgMGGEGGqcsCjp1LWa+Y+shpr3IL0YaA4fF9D/b3/8bOkoq5OicSOtpjveIg+wsCFP/rUq//7eSrJhbXLMWMa5//NExAwUWfKsAM0KmLtO1jEO4Cksah+kNUBoYOYtjolYOGlxFo6UKOl9FPrZ/N2EQ4a7sLEfUhOb5iJUIgAPRKMvcqvodT4khGdRA5uC8S/R8rXf/+yQceU79usI8h7C//NExA0SAeasAMyKmHNqL4C2igTRVgwMIbRoivDz1kNL/qX9/U328yv1Mz0cVPuY76GMRjB4DBZ/tuYlKqZmLDqOYQaVMu/o5+b7rDgl8jBdTCG4WZIAsLKbGc20VXVH//NExBgRab6gAVlQAGcsG6IjUt4gMGAFxO2aPjvR/Nb/0+h3qS3PKGC07zjW9TTe5qN9rlB87io3I1J9zEUW7GKVRoAuhoOYACLIyIEYwMJCFNYvTvxDM2eBWEcq5MLA//NExCUbMx6MAZpQAS2FOUJlc1rhLCnFgFdE/gsBSBcDgt6/8cEWNxFkRIdO/+Y1J5v//57n2Rj2////Pnnzh4SDwlH4i/////8W0J0YgFhh+PycHsGMZoFetpPBfbxs//NExAsToMrEAZh4AMSg7RGJws0AgMEHa4oNbFjwrgTEyd8lZ7H/MTCKs4I19Z1ibG8crCJAJDgL0ZTnzlBlX/4x3iFlv7L7JYWSjyql3fl6//y94xZ0WtY6hsFCh6XU//NExA8TcUrAAdhoANbaQczoQyml+IK2Vr7TgcgvGySRmE0GkRklZWJ+FzLLus+j0z6PQZ+pvVfrNzBoPspZ945Rlvo+hnpV//+novWGvDem1hnYsJ5fKcLSSZh3DGCB//NExBQT8Va8AIYKlAIFo2dd0vCvrv4rTzw7jE0EZcp+s9/SgY9CAInQOP0I+pxd+pw6VjiYmSoMVBmozcbPf2toN2/Z///MJvcNkGdtYGCS/ukCtpHvGmzDtpsRbPK6//NExBcR8aq8AG4KlLXnv/d1emWHbDC2RRuzb38K7hQrvGMnCviJkWg7XBHXn9B/p8adrf/U+W////wCyGb0g2AKzVpA6BbN1VEbY9ey+Vm6Mfw5nMl5JzHvZIsLu1/W//NExCIRqX64AG4OlGImB7NdwqvevFQYTuW89u4WMdsm3Qffqd8m+Rzun/bnP////JXrcCMDWnWoDcaP992Str2pg4BDR3Kf+dRnsXvzuJ1W8N4wQOBnpZypLGUAi0Cg//NExC4RGWq8AG4KlFvQgJ3Gr6BghU40f0GfEcVOKns5v/1K+EQUvGoTi+ulhzT6PlNHi67UKPeq1mB9bxxZjFOfqtKo3znMp8GwWH1HCkbvqJ6butEsL71ol0lG3Jxc//NExDwRqYLEAG4alENSa/+ZGZ+Ev/9d9YQQy+sWAcNmKIRwV5nUbCEIZRTrUkM1eosjjtqJq6kzEFGOik1l0TSpSjo9SmrUNTuynlBF6BeLF9H9/MUt+j/V/r///+o2//NExEgR+YrAAGyalPWAqAQa9QGh3VUCUgRNLTskQAZFusdrcuGXoF1qSCZq19mBODy1rMqHn9Gzm7ehVv7s7bF+bw3Ouvildf/6/+KSxddSn+jGZR/XVrOAlBxajonY//NExFMSeY64AGzelPPkPAJCQQbIOe1GBdbqDX/9f/rtinOuKw0CNuSFAhdHEBOgNXaPUP9MLpNFAAfoDqyh4DgcNOV+sm4mcAphyfI8GJaQZhZ4fVq2oKCP2et2NPRv//NExFwSATrAAIwScIgRq//MLfzfda/5ti+Cx41zSYGDGqggaS2CEpETT1mQSHLZ2pm+vL//+HpSEHls+hsyeHii0rX/zwFSslyvdftB2E59jorw/s50yPs5Y2K+/jVr//NExGcSoZK8AIPMlF38njXnmhWs2q2AhwRD4cOQ9ZYleLV4o4kdzUr/Ozfx/3NSosHWHv9gVDS1qzEjIcw4sw56mBga67jvSKcRs/XGaMaKEzLhGN6do2Nqt1DZwZZI//NExG8RuX60AMPQlHjaGKsnIjVosyLF+Uc21UOwWZZoGgaesNdetZiz/lQn/29NjL/U4hCDFsJ7GItwCpuZqJsOiLMA+AX24S6T2I1jmIiNbre/qCqzqyIFtGkS1kSU//NExHsSqQqQANPScM8SvHqN+CITToGOUf5TFrfrZ0O/9xI2hqxB6mpt76DlkiBkZwcKHAjSUsoacSBi/2SFc3fHlYCO3nDbbecdyrRWzbzWA7g6g1fXWpE9tXKS3Vov//NExIMRuPqAANvWcIOEldovAAiqT0M/XmDn0Y7b3c5/ulqG9Ka9WblR0EXj05lYWg+MEDSbwACLgQpfVTXUrbIQgZl2mbCEr6VTEIYasbkRnDky3ImCrPdpF6icHMy8//NExI8bGY6AANvYlMT/KkFdPu2ih6VRiSpkaqE+AmwlYkpuFSDeORgeqVRPImsHKhafjzvX7/bbI8ieuKRKvZ2dKkxQ5wxSm/nOsUxjF9VrAvvc7+HHvZjkePJs2pT0//NExHUfcj6AANteuJYJVPb//Xd0JeX5tsQgMziwdZ8deMQlRnYPB8s2zF/Od2zSEoZmpzjej/9dUPQw0XkhGeIUAaA8F4Qzxqf1+zuMRIicqYocKu27cfN3fZePCybh//NExEoacjqMANqYuAgzVS1F0z1un70+bfXKw7H8TMLVW7cji3Oi8UKf//+px1i0oqEzFTkYKey5QVWMMkN2yEIs+3NPfq/+b9l1YxmllhYhXK4UQm65MfrHfsurC7ic//NExDMXwiKUANHYmPHCIYLUVkzETOc+v1cwdkg1IxEOW29mZ39np3Z2crmew6xL0sXitNHf///p3/KZpIrbR/h6ztfQFAt/rsEHbr8xOh/p/8jTLUIUTKjrZEKh4yT7//NExCcUigKgANCSmKhUR0wyyicgKPQpXOd7m5lTQLhQyJCdRW9/+1sZQ3Kn4p2+CWhd9f////Wq9QDkIFm5B1VDpC95P8JBxuog3t//+fmZ2+d9rMk8zWA2I4eEsnn9//NExCcRMaKsAKFYlV09J69fV2Nye2ub+zMzM9uVfYidRnm39u4tpBwunv/+VlknxkCZ7uULkr3y8r+DfzK/oT9upgBmUKCwOxeyRQFohB4MFrB4PwUAmfUHTf9ffxf///NExDUSwfa0AMCQmPEXVisKH59/y8rVwia9kINd5f///+jf75nDBW0mRbtzFRMJMe9IefrLpQ+ZHvUj8xVQTkcPBcSSLxeLxSbZI+PBBlnC6Px2s5l+6KgmWBUKPlib//NExD0Q+SqwAMNacOEhgdInNNP/1uYZ+S11LYxy1bsJUya2Zj2fzMePrL5R+Tn5gOAFjc4qNQUAq/PKkfUIj31gKLv5v1b6fQcF1eO8HOGsV1/B8o4v6jm/6fyK6ajQ//NExEwSKbqkANNOlA8gYapmeHIE/P0CIr3ExheilbO5W3QwiUgohxIPf/UpfUrIi///+zf///17Id6e+ZhQhzDRQSBzi6CjHdYfA83UlBAirEA+eiOEGfPdeldQiAF6//NExFYUItqsAJFKuWT5QGSS83qj/8n/kGft///////+n//X5zHURUPdjMyd3lzzzlIB5MbRoSIjpEwRRWLCAjMPEiw6aTuNRoe5gnKlyBU80Ty5lgWluukeBTw8lNpg//NExFgT4v6wAIiOuSCGr6jxe//P/yJne////////0///9fKjuUe9ddNCGFlYZOwkJjDnUowHDo5SoK9SOVioPa7ij5RT1Z6/vcIgSxvrLrFRaAXRfemrniMA0hzC+yF//NExFsQova0AGhKuUwxrs7aLMawlIZQ0PghcSh+LtpT63CEK35BfZ4dg3v/Rf+v/T+WM6jn8UqI52v5bLYl9qEPywlciv//rDNcxTYYQ0KlomZ2iNhcBzq5K2pQhbnv//NExGsUIaasAMnQlOi9Y6dNlBcLRdE3J4Cbc0N6ImdkGJg5iWdJQ7AkpcXWqtWo3bqM0d1pUcwHsUV9NfW/qQU/MwlS7//+nXXn61KxH3AeFvG6QriRNi2kJgFvYVws//NExG0VmhaoAMqamPUnT1f/6XqNdUkyYfUXWGccSS6h2DxrMkhBAWSZ5tJ+g3uk/WXUVJKcYU8eA5GJ3WHaSKrK9XqLTMhzDPbDN08NGYSk3ZN6bQDqBqmD0AVWX2xB//NExGkSSbqoAMqalEBn/S//7B8z/ReZ+yG52bNmnMAQc3HvDs0teHJERD1b/FgauxR9mIjyqs7MujJe40SOBW8pGZnl9GPqUzLZbSwgTTXpdbTaZP9nmLP2K2svkX7A//NExHISEUKUANPMcOHZWG4FlbMI6oKCPjLObYWPmis7D7vD39bv/+5//qr+zjvmAgcZDoxgwEKZvQo4YEERmQkpm016GBwz70k9ywVQMuo97pFBYrrtQUq/yjenEMBH//NExHwR4TKIAN4OcPpD+5coVq3cQrqIR14c8ISYRO1naPo///2//o0Vp2dvCnkYEsG+cprAADgNhKQJoZ0YCCCRpNai7UX2vWpU9bi1Ju5Xl01qhoKcN/+89tIkQbZr//NExIcUGTKAAOYQcGtdpeWeLydr9rq8+ETuFFzJmKDGiIrwDeGEpMJ/reTlZY976U7S6Z+3sp612LxKkr3AYwQABwSLQFisWEBgQBBI411qBEirxxoLOSKud9LGo/9X//NExIkROTZ4AN4Mcf/q6AZA4Gw6BTDVA2BADHsVDBIxJjnDrN3nCaNv30+0B4H4NiX/5IJgex3k8xKx/X//x0Ghwn3nx3EpM6Tf/9M3PjsNDhPSMFDRlrf//nz5yu2M//NExJcRwN5kAVgYADcmkkoLh+N0UX////m580NGH32xm+4PwyqpnN/////77YaMNzc+TDQ4Tz7/dErNhajRx5EpRkaQkrD9ofADkocTwA6CeCSJI73J6hM5wTDEnpD4//NExKMhcyp0AYlYAEgEiCUBEiCIOg4CABIOgqDwWGADoknUgRB8MyQTEDR6FP0jbjH+97z7HzU8w7/zSnsr84+mXXX//x733L9/bHvp9zcPdw7+fb3T+j/7Ki++rYtg//NExHAfApagAYxYAQod1k3zsvOwQCIGGyCIUxSdkLiNCBpWKwLobshb3xNSPEFRjA3wiBQAfYC0BTCArJwZ0rIkmOeKCEFCHjMDAJsvF4vJvsWk0DEzk8XlolJ3ZN7u//NExEcgqxaUAY+YALSQNi6ySTrUa/mDVroJGC0DGtF6Tf1JrR+tbVa2q00jy/0FFEhxUNFdUyqcypJLQJpK3fT76f6rqqOMTdb1JDK+1D1ao/UM6l2KVbsSeMs0UHXp//NExBcXOhaoAdhQAECqqRbrw/ExeIoVwWy4NgrheAsC4BQQAiQpBgPxbIzbK9VIkU8/mNa2XYnNZFf//pTuZ6u6p//1UwhScSqHw82+m932f9TUZgGyKVZuBclLuJqZ//NExA0U6Sa0AG4icG6eNF/ym8UydsZfBVPnE0Z4xVu4hgYnTYohiMEbGCXymLPKVjMvoZgXH1q0EFrmBonM0jE1Cxz/2YfSxv8pFjiWMQ7///yl5wCMNtEDyP4uithM//NExAwTmZ68AG4UlOIcBKKW1sAdjf8etvt86ou2tLusjhC7NaqXwq391Z7ivogo4wbUW80XhGRNOLdPP6vzOhJyr4elKn2xJUck7P///Srxgyx5wLBrEURFAsgnAnEE//NExBAScibEAGzOmMbgY3d2G6rWMabpTIVa1JkMDIpofNxnD7ZMNWWC1S7cWZghEpTmC7c3q/vz+i9X455vvzOu9C3Kaa7qEknyMQb4xCBboAP5qtEyE7PlE9yMPtWT//NExBkRsiLMAFROmY1iOG0bKjWJ+lHWbvMjM7K9Cd3E4BhE5RST482pnR+3v5Pn9D+p/fqf1M5V/ZLqE0NthNtzAEweTNRKA9oOsdq9ZR5km+5puTlZUQnuKQmdoEjD//NExCURgbrMAGtOlCpbjo4ZYVhIXOUgfzW7dPfqvYme6kjDgtU+dQJAfgOG6+oKIbNIEubvEcBDpMmMYGZespcy8nK5X1Gb500QoiAicINB8LGoNj3WJz3NYCzMg8TP//NExDISag7EAGtOmb27tzfNfVEqRL7OZo96trNa6F/aILG95eoiwaRWsQAEDscHKAxgbmu4cTbGnQbvoPvqS8v1Hk5Mh0JOrWxiXL1J1LKC3kNGiZrWtL//fqfrQaYm//NExDsRqbK4AJHglKcbq5ZcSuUFViV0evqUkOEKw5sPPy18AoRKnbkbUxfKe1Ucqe/9d/LWLqUFr4JD3qV+Yk1skdRyyKjm5Kv2Ka4GALCNkW1Z76gKWUn/4dEISep6//NExEcSKTKoAVhAAN1NZknNBSa8faKxOXM3hsUYXFh+wud13kh4gVgaCSDaAaIFWQ5kMH46DUeN00j8nMMMLC4lJRVVtHHhI3FxCQmHnvb0u/Kzjzr//fftQohmiZz2//NExFEeAyp4AZhQAO72PPVcwxj3e5xG6j45rbnf157mGHkhjD8fufXMKEo9JUkVwvh/JYdy/tFYHWzJdi1xQnU2WrYndYmzwKgIGjbQaCgcKhRUAkyovcgXqQ6zs/jr//NExCwRAG6IAcwYAE51bpVDiCb35Zz3B8tpaYXra4VF2lnka9YpEXA3C4VV43AkBLDkLgTwAOAIiETzF/Mue+4FYlbw1fH3vwFZE0xvjQVGsUy7UECPz/6nOd3EAIKE//NExDsSIa6sAHvKlMn//+r6h8Xer/qsA6aVxrSqNLBC36CLRZuQVWyWHZc2A3uB/WG0zOxC8idb3YpFu1LmUfdiezmGGIHUt+20sRkemdxrxuinYSDc7cIE13Nn3d2V//NExEUcabKsAMYWlJpbx3j4DRada09X91+y/e5v1FXBoaDyxygWfUhz6nQKFxoQLmkuHzXr/+3rSt8/cTIrZ1dPuLSv3ppMg5CVaJdSDII601PC0vBS2W2KzIE+ZTlN//NExCYa+a6wAMZQlbAxo+f7aRsMANgtyvNwnf5YfR5Y830MOvQcdci4KwhaQ4D0Pjrc+73uq0uvhL9EslRhLXIPzW/NiAZRArlDSEHFW2T+/fXyRAtzrDtCPdADCEML//NExA0UChq4AGzOmIgXQI9As0oGxkEwDYSUgIWHhJZsFhAtyaZqFkRFHRcnG5V8qeP+f1GmhUAZ2qNGmKZ0Xo3Ut0LvlPX19PPZMgGYe8iq/+zcFVrORyGNXEEDXFKn//NExA8Vchq4AHyOmFRSAAsstRDV5VywGymqaiNBTiSNTIUMAyo2E0jQl16i3zNDq/Z+eboB41IooA410HzdTn5d8qjaknz/X1fv4+aaikjXCu+m6gNgcTKTBDGmmA2S//NExAwRQhq8AGyOmFy5SAjBbXidHy+G3H6RHhzD7oj6AvZmkxmPS8wNudbmP06G+Ij0hI9jzurdTuPt2O5X29Pb/kct6uoIhcWccXGPOYBDQI9moAlrvMiTz8L5STeu//NExBoRoiq8AIPOmIpZtQj5CKcs7eJet+1Y/7Bn+T83oTesOaYI4c1zfK+Z1LeX7F2/p/19TeUSqugCYB2HWcCBSL1LAjZdNFGYA5G2sTk+cGR5KDy9MSEVZ6iGoDaN//NExCYSGVK0AJSOlG5Mhxe+o0Xl9R8ZorhyooGi1rDmiUPxExY2Enq2f2gJy10VxrbiEPDsPxIsADwTBxW2QIcTZW1KEIysR6LlZp+3OV8c6j9xtSMjtspAeXfmremd//NExDARKTqsAHvYcDnWIWocvT/rkLtvlCElTOatc3/8qr/J6OiHWZYK8j1ScMRiS20+ijTdtmmEm0/qkjBrAfos43bIxiOLopi5AzQtADEm7Pqa/9bf+mcbxXP+c1/x//NExD4Q6TKQANPecBa/yZg6Xb1G7qlRltosjYIr4wA8bymKCr4K8UkOoyn6hJSXF0xEzIMXJaoysTkfqpbctxlCIjUC5pDUJ1L79im3kvsNjtZvhko6oqqpFoQFRU0u//NExE0RWSqMANPScXiZegkgBDEh8zIfcKWlmBCJtM2LlXR4arITFeRIcbeobUzf1zp6GMwAdH32tObXr0i76XdDYuCgkNwdd////+VqqTo6MM9zPVFHhAXLks47bwoE//NExFoR0PKAANvYcCa6SACM31LlQW692czq1O6yy7jr/R6BhUWAiX2dquxzOLCsDIaZc0Nou9K//sFvqTQ48x3P2apCuRAVMcwJfRpPVZsngLCTVBVIVnRFBoko8DQ8//NExGUScO5sANYEcDRFWhgdEoaIzwaUsOrczEqsq5nUFWewrlriwUeSUHREulrysOg0V936sisnQ5AfBYwBGmUcezAnn7k+eN15IG6Z9ta3t2qeZjMqHPQzHoZD0kVW//NExG4RgDpcAMYMBEbNLvPUqpexv/r9E8yJ5qfhra/Myz1WoSp7raH2iPutffTVICFsFLwXcHYATL7Q3bUkq5JKGZbAmLbwXciIICiODwVFEHn2cDeRcnE4hJBgqWUY//NExHsSieI8AU8QAFSg0VeWmOrjakHrIdQ1aLQyk6LqZRquE6Ks2Oq9lRNrmDJGS6xckJ13cXM0e6D6qpSF2RKevdjqhf07mS14I/trGX6dhTxkCK9TgpWuAQccR/kh//NExIMe0so4AZhAAbeX/hi5D+aTRemn/tSOm6ii7v/dLSomSbgPCwbf783IAfKPsJR0ngUHQl//qN2Ma0kMNXsYb/X/8SbtPzCb9rREKB3tJR37///TXaCOP5LPU5hw//NExFoh0yqUAYlYAHQcMgQxvLyQXniEKXh8//9nb/9AfM9I7zZZGUDz78eA8kMQyJsTDg3l7R7PE9XVqJO0FZrsXc5UfDLj2GHSeGXys/rkqvf/afnYyVta8ddU0gw7//NExCUbosKgAdhYAOwgibO6T3thK3KpOlsVyidprWu/+P9v81fDv//+Wta1zr/////4c5znOc2tzr//hznOc3hxsbOd/uc5znNa1E1BUFQa+CoKgqHVjEvgRW83HsBD//NExAkUaO54ANYwcNajNk7jzVzTC3YmZpKKm3uCEfXVx06NuU9eBmLiyanFRuU7UFtKBhY47MCu057u0Fh2oef61qmv//6tbSFaIhAzwyoOqDuv/LJ6oMcMGhIx9ajA//NExAoUkMJgAOawTKEkxYWSic/o8eNua+1ARJ7sx6gbez3boGVbm54lMNHygh5y8DfvZLmjBgonRRqOwLO7yuWwVLHiQNV3qYVNHqIiQv//b//9WuqpDEZiRk7odsmB//NExAoTmO5wAN4ecAMlv0ZFHQUtmFCyMMnZlK7fG4oqJENMoVVVhFSMQd5DJYMtmYRoxC5AnB+DfCPuWGBtNP5rOpHC/8kT3vHv7ZL0pxX9dcsK9hpRi84Kby6dY2Ym//NExA4UiOqUANPecMBkQpFK+eoUdFtPlKfio0xM6FE4Vi+hIcR8iZnEfqwR4YAnYavauYRuD0OCnbF8esf79jtBV56XwxhitCBOHzi9TqnUKtf2xLxIQnDnLsAp3HXE//NExA4VeWakAMvelDSFvLdTlm/+GXf/hRd51uKheN4RQMILpbUqhP4lRKTu1ARJJAAsOhQMjGaQhiERKYfv4/xmBT/5xr/5x/mDAzg4ZW2sQOQO0/UEZA87O5dBpcKM//NExAsRsZ6wAJnalD7YgLeKvipvMIdBV6DZsyKQPQE6OVpMHMCkEqbqOjCi3JA9dMvvrRT9b8yN0+dLrq1sX3pElYLvgx//ofYEyAXuktkwvyCKh58YCegv6C/mDr9H//NExBcQ4aq0AJlalPpNsZDSo+pTloWBhZET1M3fUPNfWk3v1pG/omCD1JFI9gnqTU6I9Ltnp//5df/86Rh5XvI8MK84Chdb4H8r+r+gv1J83mlQuRvuacGjo6iBBYZq//NExCYRacKwAMiUlAxEot1Lepr9TT/l+aomH6lTHRR+GIlOb8B///UH4dDC1LLAR0GsEehTLgDDJ+Iv6D/U3xD7t6P5wZeqSeo4dDSmZrmYzjwTsyRp9L6rdda7FQ83//NExDMR4hawAJFamFoIpJ9SlfWyHWad2Hf/8Sj4qPCxWlXQPjZB5EbBumozBtib+MH/Dfivzt6t83qBX7jQwqEFgmgsIpx5UF0n7uW+W+/qz1ueFsh0Ugbz/Yr+W/9k//NExD4SguKsAKFUuH///+nupMdaaSV2aP/epkhEb6xrfcY0IxWN8Kf1N83xv7fb1FT+dNUk0FmISEvVoE4Qidqlnvr+37+YmSlaZ3F3yoWpC3//dtztQVVRrtfhnKBU//NExEcQccqsAMFalAnHIN/OWK8pEY2rpcQN6jHoR+a/o3y/sMt0x9nluosmgOjdS0C+IPfqM2+f+f+p17D7PJ3dM29SHrM3wXdIu/+nv30m/pr//dAQBDaWcOUz+BYQ//NExFgSofqkANHgmG7ajdutM96D+6X3/frTPbpmZesTCRLQ2Bgi6bD4SA2kJCgowc1Yd+VrPmQ+gfFXQRxOGqiX/+nPcv3InJDO32RqWJeOeAnSRLTQyoNeizWpVd69//NExGARAUawAMQacKv9UQ80woapOY4zB6ACCwXCk9BuRJO466xuzagRiYLpOoA566p7P//3//pqyiUfiTPX4iabSOQQOacg1UGsT9ctcaHiZsj0zCvrW9+trz9nyv/u//NExG8R0TawAMNOcPxtbGl8LJHnOWjOFouUFgR5IkkPcZr/WSUOAofFXZ7I///V33mdLVpJW0gxNTLSFJKpjmZ9XjnKo43/z8xbPNf9Rg8yT+umkYNBWI8S1kmqt8fU//NExHoSeS6gAMvMcBzWHAePF3Wf9X/TO2a+sUePKnf/+YVDROW/FRy6PQEh+FaUk1VHA8H0xf/kmw9X8jAAQWMHrxNCwtdNGvJIqv1F8MWHJ+eD4Pg+CAIdr7wUDgZA//NExIMRYSKQAMPQcB+hVLiu///93jw3qBqAGAT2FlRjJZX/3oIc/78WshV/LL/1NQVANBya3oappE0iavtrn++pxxx3/82mcibMv6mqRMDRqwso8SK/SsadO3VqAYCj//NExJASgS58AGIQcGkVWu7BT9tMtXFSMbuRM4/6pkymk53fWRid01IhKWIBu0VSESgoNJBJNuln6g0+e2LMFluW0adC/iFTtXk6DaEvUeTWrt/LacWbPPPnmRk1BJHj//NExJkQmlZoADBOuEYalPvaSU6Dg6JiAPvGFsYIDhcTZShxl3Y9XY48hKcxLIRt1OzyejKcQQWkcfHpSILe1O/3vffvT3yV8gpwanO929znAwAQT0Z3d3Ld3RKiv4cs//NExKkQIVJYAGBElFyxc97dEREr5qE0ogxBdy3zpXqueNPt3LL7rn/mr5YubuXXt3Lt/uT3FxcXD8GgeGCiIlaEDEMIRE4HChBufIhng4EALwBLBZh+We5d71+nFIju//NExLsUMk5gAGhKuXuHj43WjJAloqqQ4ugIJZcmwSgvxOhkAFPKOSrWGqDxuCKIjkiwKsH8ezdVhyDM8SIrCA1DySSzYyIxEZ8ZQnykaB/SWIYitkJsSBMJlIkSGFof//NExL0bQwZ4AUJAAUgR5aIuZo1ryXGPHow49jkD27KdbLoq6qddqtFzE0SQX9Hb0L0UjNvTrmQAAv7f/1dF/nzTtCNoaNeX+XH/E2GgxmUtZHMQCfFZbvcRfq/l7Iov//NExKMgalqkAZmYAPH/w1GJE18QlzDz6m6Sx48nbI5QnWz2sxKeHH+mtAv8++yVMCcrI3CBCYIRG32G9/8Uvff8vzr5havv1a9Z17Z1rfzref82/+awt7prE8SpybP///NExHQdyjKgAdl4ALfuy6r//uKOxnltTvaoZIVYU15+xRo6mmygcLsa2+rsRTL9TT/SzDDta3Sc//rU93PiYnHLx4tqYj0XTfm1qxQdktWZGTK4wXqox9NyQHg+AVLR//NExE8dmbqkAM4YlOGbTjs3plKZeDW26dem3eu5BUSkCp9/UkIBBRMPkQQa05/9P/AJ8bXXf3haEEFXyy5Q20yTIp1L2OTcK8Iksf+q5c9/+E5OH/xbdP82fXpT1ess//NExCsb8kaoAMPWuB9O2oa0HkXBC0fmRDhtBPKzM1YNxCh7JY/GI6QOjqLFjprTqqtrXGj5ajD4qlLccJ713zE93//c/39f7rlqVjHu///uofx/9YksBE3FMpXPxVGZ//NExA4Toc6kAMqWlNklpcRIFp3NVvNKE3//Nf8os95qSAFQKH6g8iCSAhDzQqXVAiRpyNHn1///DnGsf6R4thzmnWnvy3Tlhe////lVz7/0HQqoHNg7AYU+8KsIeOWQ//NExBIREbaIANqOlJKqsIwRn0Q84fG+pF/f7P/0dgWg5KHHVB6IwpEUascVElDjUeb/+qm+rDxEFSwVYj/6lV9y64yxE8wqLSWZG0ywsVC8OBLTR6ADpRSUdQkCJM7a//NExCAQ8SJsAOPOcNneyQ2thiWrQ8Fo1tVKaafv2mqcn3Gp8TPa9vs07vqmT9v/oUOr70jPguImjUZ50KZkFgIJZmzRa0AtdjOOoanJVKoanqsZltLKJYsHRYUmBkGj//NExC8RuH5UAVsQAM1twNLFvWdYxN3yuW/gI9b+6bBWW/+n1gYgfItpUq9SMLwUiMCtLzKwanURYCiYoKdwUgT8eZ1FfWs+eKZPV9T41BOAcgwY9P9XHASpLgpYcgZF//NExDsgeypUAY9oADu3X8YAQMN8cwwoSMLO//6uPAlxzpIEgPolYle7f1fru2XFjJHkHMA8BLz43EAe4SP7bf9v/4zCUBYD3SLxRHOHPJhoaGZvOrUIWDWLAS/NXv1n//NExAwVao6sAYNAANlPra//aSYnn4/+tDDzPaP//HFsEQaHtDDyRz8c/Pmf3LN91/P8f/1bkFjU6PDy/+VejxU2O9++a5e5XeRcUQh6TxUM1POR0m5S0CoASARgJ+O4//NExAkSGcKoAc0oAHqFwDlkccBKN/637dv/06N35z5A4HGAcAxcQMHBRjiAcFGEBRQ+5Gup+c9EI2QjKwmHxcCOWmvc1c7AVzPisrW7zrYEBNbKDSplmkWnLkJ7I3Lq//NExBMR4cKoAMCSlA+nv26//3c+ffOaWTUB8jo4FUdqrJtEBQbRoDgLJSUS9VUP8j8jGPqX8Fi6z4lhYRNKup6F4rAhxugGLwCYhGGcEannGg+r8htNGTJ/d6v44bvu//NExB4SSbqwAIFWlKECYmsCGBshASnE5Y8kT2FTzY1JROIkPbNO2f19zfsnt7+yYanwjP8dSs2q4rAwsJ8PqZE6DQGh5xCH6vq2Pto2Y2nXs+I65WxmFzRwyrPGQmrG//NExCcSihKwAInamKVjBpIGAwpq0e5ro9+nrOJOop60ndRKNWUnehrS57Wk7uaU1eLwepuExGi5gBTB3lSKhuIcbyvifEufk1FtRKPH8ZTqEOSBkcL4yluTwlj6ZFMk//NExC8Rub60AJFalFaBLPTS2S1/6Oc5miy3RdR2Xcvi50udJuKYVmcOqs6WASoFsaIBhlUu2ZmEz7Zx2ZvMzNZ075gvjutgTjZqFw5U5UrqksZINltnFw63/nyZyLgo//NExDsQmRq4AJqYcMDrvrCo4K1V/uDCpztZdkiuwCLPKJiPgdygxmeeo1zj51vh6/m/xFzKrX1F0UtoWFZNmV9a7enn0GMTlW+PFqSitf9CiI8RAcQuEvzA0OvDqt9x//NExEsSGR6wAMNecGdub2lUL5WbKDmLMi8D2oDPmq5TaYEVeZklUwbTpXr5UHXMB8GU6kdlls9zHLZ6yPDwArkwxDJ0/2TxeQDo1xWpRZJEDONkavyukB5fquVg5fcA//NExFUSURKkAMSYcB3YpMNzIzS3N+bWOdTPC5B/cKsixtipPGBcfmbDl2aPL1NTxfU96c3Nhd/H4ry08Rdn+WlkhVANzq3YBIAGqt4ZPai1IJQhfSxRVIMPCL8DBnod//NExF4SYRKcAMYYcIu3aF2LMzep7TtZYdb6hlYJcShEeJBLUbtWtk1qXde+izsicL5qasO//2Muf/WVQmq5Ja5UiFr11LTCho0G/9CqopNFZKsFJXuup0FMn4trlKH+//NExGcRERaUAMYacKpFi7CuD/CtH0SJFktXEXKTxgJuYVOrdctl09/+2whVicVXgMch7fKWWImESty3oBsEWnjfwLwJjwDRuSzXJPC5FjPlZlEzIwbgmrk3Pqr8uZ4B//NExHUQSJqAAM4eTIanp5Vh7Ubht//VkZH/vpQmjt///4kllYAZSmAZ/RAkSVqQ8MDFkkoJkjqP6GXEK4fyjNBijZBM8iEErhMWiwBMQwZjmHy26Pso3UuxT0zEmLuD//NExIYSkJ5sANYeTL1mDn/lf/9FP3f//+lCxbCIApoKJGNXs4BUBwIVgPD83AHQuUug2erSjpn9jDhSCMuAp9rKhwQZrzAXKluN7Wfd1jKGHxMPur+oOr/fX/u/qPfq//NExI4SKK5cANvYTEf//pRI1aIS2vdI0HNZrk4UTbV8liwucC0FLZlWYslFa4tS1ZhJyhpMzrGInHsC0LYSBggysS73diXMOOqIpaO+nZRX3IdZVabbdp+hT1/UAURh//NExJgSiLZQANMwTIAuGCaaLNEvaoZnSWCi0mhyf+8WEyRNfVzNN6vPBNjgVHNdJH3jMCI3iwuldyH3vagl9y1G+6itFAhJUPrajV9Td6ldVWcGsjU1HonId0twhKgF//NExKASeLJEAMJeTAyKTxE9U9GiQV6piIwFRWIwVcGgsBQUWq3J0LYmxInDR6e9xWd73dfPaNVdXrZubjv1xdUV9RFwAiuXHMTWBRETgOvBlNAMIWWDiTikvFEhIGyR//NExKkR2M5AAHsQcFY0OuoDSyfbUrGsWEoVLLa0q5duoVCQUFX73C7GEbT1iI65tP1VKhygQTaA03j6GAnlXCJ6wkHKRK4qdQRWCpUNc6VO0qDvwVcWBpwa2kqgaO/O//NExLQQUHI4AMJMSJV0NdJU6VKlvJQkGljDwcI1jIl+sFYGEmB0oIOCB/WLEjXrFRYWULC7EgIWFUuFhcVFRUVFmv/4s3iwr/i1QsLioqKiotwMLCwsLCoqKiooLCws//NExMURSDokAHsMBCzNQuK1TEFNRTMuOTkuNVVVVVVVVVVVVVVVVVVVVVVVVVVVVVVVVVVVVVVVVVVVVVVVVVVVVVVVVVVVVVVVVVVVVVVVVVVVVVVVVVVVTEFNRTMu//NExNIQcDIIAHpEADk5LjVVVVVVVVVVVVVVVVVVVVVVVVVVVVVVVVVVVVVVVVVVVVVVVVVVVVVVVVVVVVVVVVVVVVVVVVVVVVVVVVVVVVVVVVVVVVVVVVVVTEFNRTMu//NExOMQWCFUADDEADk5LjVVVVVVVVVVVVVVVVVVVVVVVVVVVVVVVVVVVVVVVVVVVVVVVVVVVVVVVVVVVVVVVVVVVVVVVVVVVVVVVVVVVVVVVVVVVVVVVVVVTEFNRTMu//NExKwAAANIAAAAADk5LjVVVVVVVVVVVVVVVVVVVVVVVVVVVVVVVVVVVVVVVVVVVVVVVVVVVVVVVVVVVVVVVVVVVVVVVVVVVVVVVVVVVVVVVVVVVVVVVVVVTEFNRTMu//NExKwAAANIAAAAADk5LjVVVVVVVVVVVVVVVVVVVVVVVVVVVVVVVVVVVVVVVVVVVVVVVVVVVVVVVVVVVVVVVVVVVVVVVVVVVVVVVVVVVVVVVVVVVVVVVVVVTEFNRTMu//NExKwAAANIAAAAADk5LjVVVVVVVVVVVVVVVVVVVVVVVVVVVVVVVVVVVVVVVVVVVVVVVVVVVVVVVVVVVVVVVVVVVVVVVVVVVVVVVVVVVVVVVVVVVVVVVVVVTEFNRTMu//NExKwAAANIAAAAADk5LjVVVVVVVVVVVVVVVVVVVVVVVVVVVVVVVVVVVVVVVVVVVVVVVVVVVVVVVVVVVVVVVVVVVVVVVVVVVVVVVVVVVVVVVVVVVVVVVVVVTEFNRTMu//NExKwAAANIAAAAADk5LjVVVVVVVVVVVVVVVVVVVVVVVVVVVVVVVVVVVVVVVVVVVVVVVVVVVVVVVVVVVVVVVVVVVVVVVVVVVVVVVVVVVVVVVVVVVVVVVVVVTEFNRTMu//NExKwAAANIAAAAADk5LjVVVVVVVVVVVVVVVVVVVVVVVVVVVVVVVVVVVVVVVVVVVVVVVVVVVVVVVVVVVVVVVVVVVVVVVVVVVVVVVVVVVVVVVVVVVVVVVVVVTEFNRTMu//NExKwAAANIAAAAADk5LjVVVVVVVVVVVVVVVVVVVVVVVVVVVVVVVVVVVVVVVVVVVVVVVVVVVVVVVVVVVVVVVVVVVVVVVVVVVVVVVVVVVVVVVVVVVVVVVVVVVVVVVVVV//NExKwAAANIAAAAAFVVVVVVVVVVVVVVVVVVVVVVVVVVVVVVVVVVVVVVVVVVVVVVVVVVVVVVVVVVVVVVVVVVVVVVVVVVVVVVVVVVVVVVVVVVVVVVVVVVVVVVVVVVVVVV//NExKwAAANIAAAAAFVVVVVVVVVVVVVVVVVVVVVVVVVVVVVVVVVVVVVVVVVVVVVVVVVVVVVVVVVVVVVVVVVVVVVVVVVVVVVVVVVVVVVVVVVVVVVVVVVVVVVVVVVVVVVV\" type=\"audio/mpeg\" />\n",
       "                    Your browser does not support the audio element.\n",
       "                </audio>\n",
       "              "
      ],
      "text/plain": [
       "<IPython.lib.display.Audio object>"
      ]
     },
     "execution_count": 95,
     "metadata": {},
     "output_type": "execute_result"
    }
   ],
   "source": [
    "ipd.Audio(filename='hello.mp3')"
   ]
  },
  {
   "cell_type": "code",
   "execution_count": 102,
   "metadata": {},
   "outputs": [
    {
     "data": {
      "text/plain": [
       "0"
      ]
     },
     "execution_count": 102,
     "metadata": {},
     "output_type": "execute_result"
    }
   ],
   "source": [
    "os.system('hello.mp3')"
   ]
  },
  {
   "cell_type": "code",
   "execution_count": 101,
   "metadata": {},
   "outputs": [
    {
     "data": {
      "text/plain": [
       "1"
      ]
     },
     "execution_count": 101,
     "metadata": {},
     "output_type": "execute_result"
    }
   ],
   "source": [
    "os.system(\"ThuApr2017 121533.mp3\")"
   ]
  },
  {
   "cell_type": "code",
   "execution_count": 29,
   "metadata": {
    "collapsed": true
   },
   "outputs": [],
   "source": [
    "data='google one two three four'"
   ]
  },
  {
   "cell_type": "code",
   "execution_count": 30,
   "metadata": {},
   "outputs": [
    {
     "data": {
      "text/plain": [
       "str"
      ]
     },
     "execution_count": 30,
     "metadata": {},
     "output_type": "execute_result"
    }
   ],
   "source": [
    "type(data)"
   ]
  },
  {
   "cell_type": "code",
   "execution_count": 31,
   "metadata": {
    "collapsed": true
   },
   "outputs": [],
   "source": [
    "data = data.split(\" \")"
   ]
  },
  {
   "cell_type": "code",
   "execution_count": 33,
   "metadata": {},
   "outputs": [
    {
     "data": {
      "text/plain": [
       "list"
      ]
     },
     "execution_count": 33,
     "metadata": {},
     "output_type": "execute_result"
    }
   ],
   "source": [
    "type(data)"
   ]
  },
  {
   "cell_type": "code",
   "execution_count": 36,
   "metadata": {},
   "outputs": [
    {
     "data": {
      "text/plain": [
       "['one', 'two', 'three', 'four']"
      ]
     },
     "execution_count": 36,
     "metadata": {},
     "output_type": "execute_result"
    }
   ],
   "source": [
    "data[1:]"
   ]
  },
  {
   "cell_type": "code",
   "execution_count": 105,
   "metadata": {},
   "outputs": [
    {
     "name": "stdout",
     "output_type": "stream",
     "text": [
      "[['Google', 'later']]\n",
      "Wall time: 0 ns\n"
     ]
    }
   ],
   "source": [
    "%%time\n",
    "if \"Google\" in data:\n",
    "        data = data.split(\" \")\n",
    "        find=[]\n",
    "        find.append(data)\n",
    "        findall = find[0:]\n",
    "        print(findall)\n",
    "        #speak(\"Hold on Mantej, I will Google therequest for you !\")\n",
    "        #webbrowser.open(\"https://www.google.com/\" + find)"
   ]
  },
  {
   "cell_type": "code",
   "execution_count": 107,
   "metadata": {},
   "outputs": [
    {
     "data": {
      "text/plain": [
       "['Google', 'later']"
      ]
     },
     "execution_count": 107,
     "metadata": {},
     "output_type": "execute_result"
    }
   ],
   "source": [
    "data"
   ]
  },
  {
   "cell_type": "code",
   "execution_count": 110,
   "metadata": {},
   "outputs": [
    {
     "name": "stdout",
     "output_type": "stream",
     "text": [
      "Google later\n"
     ]
    }
   ],
   "source": [
    "if \"Google\" in data:\n",
    "        #data = data.split(\" \")\n",
    "        find = data[0:]\n",
    "        #print(*find, sep=' ')\n",
    "        str1 = ' '.join(find)\n",
    "        print(str1)\n",
    "        #speak(\"Hold on Mantej, I will Google therequest for you !\")\n",
    "        #webbrowser.open(\"https://www.google.com/search?num=30&site=&source=hp&q=\" + str1)"
   ]
  },
  {
   "cell_type": "code",
   "execution_count": 89,
   "metadata": {},
   "outputs": [
    {
     "name": "stdout",
     "output_type": "stream",
     "text": [
      " about New York\n",
      "Hold on Mantej, I will Google the request for you !\n"
     ]
    },
    {
     "data": {
      "text/plain": [
       "True"
      ]
     },
     "execution_count": 89,
     "metadata": {},
     "output_type": "execute_result"
    }
   ],
   "source": [
    "list1 = [\"what is the temperature in Google about New York\"]\n",
    "str1 = ' '.join(list1)\n",
    "keyword = \"Google\"\n",
    "after = str1[str1.index(keyword) + len(keyword):] # +1 if you're worried about spaces\n",
    "print(after)\n",
    "speak(\"Hold on Mantej, I will Google the request for you !\")\n",
    "webbrowser.open(\"https://www.google.com/search?num=30&site=&source=hp&q=\" + after)"
   ]
  },
  {
   "cell_type": "code",
   "execution_count": 77,
   "metadata": {},
   "outputs": [
    {
     "data": {
      "text/plain": [
       "list"
      ]
     },
     "execution_count": 77,
     "metadata": {},
     "output_type": "execute_result"
    }
   ],
   "source": [
    "type(list1)"
   ]
  },
  {
   "cell_type": "code",
   "execution_count": null,
   "metadata": {
    "collapsed": true
   },
   "outputs": [],
   "source": []
  }
 ],
 "metadata": {
  "kernelspec": {
   "display_name": "Python 3",
   "language": "python",
   "name": "python3"
  },
  "language_info": {
   "codemirror_mode": {
    "name": "ipython",
    "version": 3
   },
   "file_extension": ".py",
   "mimetype": "text/x-python",
   "name": "python",
   "nbconvert_exporter": "python",
   "pygments_lexer": "ipython3",
   "version": "3.5.2"
  }
 },
 "nbformat": 4,
 "nbformat_minor": 2
}
